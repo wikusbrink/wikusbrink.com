{
 "cells": [
  {
   "cell_type": "code",
   "execution_count": 29,
   "metadata": {
    "collapsed": true
   },
   "outputs": [],
   "source": [
    "import requests\n",
    "import json\n",
    "import pandas"
   ]
  },
  {
   "cell_type": "code",
   "execution_count": 32,
   "metadata": {},
   "outputs": [],
   "source": [
    "df = pandas.read_csv('/Users/wikus/Code/Personal/wikusbrink.com/project/static/PG.csv')\n",
    "df.columns = [c.replace(' ', '_') for c in df.columns]\n",
    "df[['Afternoon_exercise_points', 'Morning_exercise_points', 'Alcohol_units']] = df[['Afternoon_exercise_points', 'Morning_exercise_points', 'Alcohol_units']].fillna(value=0)\n",
    "df = df.fillna('undefined')\n"
   ]
  },
  {
   "cell_type": "code",
   "execution_count": 33,
   "metadata": {
    "scrolled": false
   },
   "outputs": [
    {
     "data": {
      "text/plain": [
       "{'10%_activity': 'undefined',\n",
       " '10%_activity_done': False,\n",
       " '16:00:00': '16:00:00',\n",
       " '8:00:00': '8:00:00',\n",
       " 'Afternoon_exercise_amount': 'undefined',\n",
       " 'Afternoon_exercise_points': 0.0,\n",
       " 'Afternoon_exercise_type': 'undefined',\n",
       " 'Alcohol_units': 0.0,\n",
       " 'Clean_day': 0.0,\n",
       " 'Clean_eating': False,\n",
       " 'Clean_streak': 0.0,\n",
       " 'Date': '2018-09-05',\n",
       " 'Day': 'Wednesday',\n",
       " 'Exercise_points': 1.0,\n",
       " 'Exercise_rolling_average': 1.0,\n",
       " 'Fasting_window': 'undefined',\n",
       " 'Feeding_window_end': '19:20',\n",
       " 'Feeding_window_length': '7:00:00',\n",
       " 'Feeding_window_start': '12:20',\n",
       " 'Morning_exercise_amount': '5kg, 10 pu, 5kg',\n",
       " 'Morning_exercise_points': 1.0,\n",
       " 'Morning_exercise_type': 'Light strength training',\n",
       " 'Morning_weight': 'undefined',\n",
       " 'Notes': 'undefined',\n",
       " 'Weight_rolling_average': 'undefined'}"
      ]
     },
     "execution_count": 33,
     "metadata": {},
     "output_type": "execute_result"
    }
   ],
   "source": [
    "dicts = df.to_dict(orient='records')\n",
    "dicts[0]"
   ]
  },
  {
   "cell_type": "code",
   "execution_count": 43,
   "metadata": {
    "scrolled": false
   },
   "outputs": [
    {
     "name": "stdout",
     "output_type": "stream",
     "text": [
      "Run\n",
      "Run\n",
      "Run\n",
      "Run\n",
      "Run\n",
      "Run\n",
      "Hike\n",
      "Run\n",
      "Run\n"
     ]
    }
   ],
   "source": [
    "url = \"http://localhost:5000/api/lifestyle/2018-10-10\"\n",
    "headers = {\n",
    "    'content-type': \"application/json\",\n",
    "    'cache-control': \"no-cache\",\n",
    "}\n",
    "\n",
    "for i in dicts:\n",
    "    if i['Date'] == '2018-10-19':\n",
    "        break\n",
    "        \n",
    "    weight = i['Morning_weight']\n",
    "    if weight != 'undefined':\n",
    "        weight = weight\n",
    "    else:\n",
    "        weight = None\n",
    "        \n",
    "    morning_type = i['Morning_exercise_type']\n",
    "    if morning_type == 'undefined':\n",
    "        morning_type = None\n",
    "    else:\n",
    "        morning_type = i['Morning_exercise_type'].replace('Run', 'run').replace('Hike', 'hike').replace('Paddle', 'paddle').replace('Light strength training', 'strength').replace('Pilates', 'pilates')\n",
    "     \n",
    "    afternoon_type = i['Afternoon_exercise_type']\n",
    "    if afternoon_type == 'undefined':\n",
    "        afternoon_type = None\n",
    "    else:\n",
    "        print afternoon_type\n",
    "        afternoon_type = i['Afternoon_exercise_type'].replace('Run', 'run').replace('Hike', 'hike').replace('Paddle', 'paddle').replace('Light strength training', 'strength').replace('Pilates', 'pilates')\n",
    "     \n",
    "    alcohol = i['Alcohol_units']\n",
    "    if alcohol != 'undefined':\n",
    "        alcohol = alcohol\n",
    "    else:\n",
    "        alcohol = None\n",
    "    \n",
    "    fws = i['Feeding_window_start']\n",
    "    if fws != 'undefined':\n",
    "        fws = fws\n",
    "    else:\n",
    "        fws = None\n",
    "    \n",
    "    fwe = i['Feeding_window_end']\n",
    "    if fwe != 'undefined':\n",
    "        fwe = fwe\n",
    "    else:\n",
    "        fwe = None\n",
    "        \n",
    "        \n",
    "    notes = i['Notes']\n",
    "    if notes != 'undefined':\n",
    "        notes = notes\n",
    "    else:\n",
    "        notes = None\n",
    "        \n",
    "    mep = i['Morning_exercise_points']\n",
    "    if mep != 'undefined':\n",
    "        mep = mep\n",
    "    else:\n",
    "        mep = None\n",
    "        \n",
    "    mea = i['Morning_exercise_amount']\n",
    "    if mea != 'undefined':\n",
    "        mea = mea\n",
    "    else:\n",
    "        mea = None\n",
    "        \n",
    "    aep = i['Afternoon_exercise_points']\n",
    "    if aep != 'undefined':\n",
    "        aep = aep\n",
    "    else:\n",
    "        aep = None\n",
    "        \n",
    "    aea = i['Afternoon_exercise_amount']\n",
    "    if aea != 'undefined':\n",
    "        aea = aea\n",
    "    else:\n",
    "        aea = None\n",
    "    \n",
    "    d = {\n",
    "        'date': i['Date'],\n",
    "        'data': {\n",
    "            'weight': weight,\n",
    "            'alcohol': int(alcohol),\n",
    "            'feedingWindowStart': fws,\n",
    "            'feedingWindowEnd': fwe,\n",
    "            'cleanEating': i['Clean_eating'], #.replace('False', False).replace('True', True),\n",
    "            'notes': notes,\n",
    "            'morningExercise': {\n",
    "                'type': morning_type,\n",
    "                'points': int(mep),\n",
    "                'notes': mea\n",
    "            },\n",
    "            'afternoonExercise': {\n",
    "                'type': afternoon_type,\n",
    "                'points': int(aep),\n",
    "                'notes': aea\n",
    "            }\n",
    "        }\n",
    "    }\n",
    "    payload = json.dumps(d)\n",
    "    response = requests.request(\"PUT\", url, data=payload, headers=headers)\n",
    "    \n",
    "    "
   ]
  },
  {
   "cell_type": "code",
   "execution_count": 39,
   "metadata": {},
   "outputs": [
    {
     "data": {
      "text/plain": [
       "{'data': {'afternoonExercise': {'notes': None, 'points': 3, 'type': 'run'},\n",
       "  'alcohol': 0,\n",
       "  'cleanEating': 'True',\n",
       "  'feedingWindowEnd': '19:30',\n",
       "  'feedingWindowStart': '13:30',\n",
       "  'morningExercise': {'notes': '60 minutes', 'points': 3, 'type': 'pilates'},\n",
       "  'notes': None,\n",
       "  'weight': 83.5},\n",
       " 'date': '2018-10-18'}"
      ]
     },
     "execution_count": 39,
     "metadata": {},
     "output_type": "execute_result"
    }
   ],
   "source": [
    "d"
   ]
  },
  {
   "cell_type": "code",
   "execution_count": 11,
   "metadata": {},
   "outputs": [
    {
     "name": "stdout",
     "output_type": "stream",
     "text": [
      "\n"
     ]
    }
   ],
   "source": []
  },
  {
   "cell_type": "code",
   "execution_count": null,
   "metadata": {
    "collapsed": true
   },
   "outputs": [],
   "source": []
  },
  {
   "cell_type": "code",
   "execution_count": null,
   "metadata": {
    "collapsed": true
   },
   "outputs": [],
   "source": []
  }
 ],
 "metadata": {
  "kernelspec": {
   "display_name": "Python 2",
   "language": "python",
   "name": "python2"
  },
  "language_info": {
   "codemirror_mode": {
    "name": "ipython",
    "version": 2
   },
   "file_extension": ".py",
   "mimetype": "text/x-python",
   "name": "python",
   "nbconvert_exporter": "python",
   "pygments_lexer": "ipython2",
   "version": "2.7.14"
  }
 },
 "nbformat": 4,
 "nbformat_minor": 2
}
